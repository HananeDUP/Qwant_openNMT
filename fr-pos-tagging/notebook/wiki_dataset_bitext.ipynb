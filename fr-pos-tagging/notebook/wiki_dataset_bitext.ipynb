{
 "cells": [
  {
   "cell_type": "code",
   "execution_count": 2,
   "metadata": {},
   "outputs": [],
   "source": [
    "import os\n",
    "import numpy as np"
   ]
  },
  {
   "cell_type": "code",
   "execution_count": 1,
   "metadata": {},
   "outputs": [],
   "source": [
    "def save_to_txt(sentences_array,file_output_name):\n",
    "    if os.path.isfile(file_output_name):\n",
    "        os.remove(file_output_name)\n",
    "    with open(file_output_name, \"a\") as a_file:\n",
    "        for elem in sentences_array:\n",
    "            a_file.write(elem)\n",
    "            a_file.write(\"\\n\")\n",
    "    a_file.close()"
   ]
  },
  {
   "cell_type": "code",
   "execution_count": 3,
   "metadata": {},
   "outputs": [],
   "source": [
    "list_words=[]\n",
    "f = open(\"C:/Users/Hanane/Downloads/words.txt\", 'rt')\n",
    "for line in f:\n",
    "    list_words.append(line.strip())\n",
    "\n",
    "list_tags=[]\n",
    "f = open(\"C:/Users/Hanane/Downloads/tag.txt\", 'rt')\n",
    "for line in f:\n",
    "    list_tags.append(line.strip())"
   ]
  },
  {
   "cell_type": "markdown",
   "metadata": {
    "collapsed": true
   },
   "source": [
    "### Create bitext lists for words and tags"
   ]
  },
  {
   "cell_type": "code",
   "execution_count": 4,
   "metadata": {},
   "outputs": [
    {
     "name": "stdout",
     "output_type": "stream",
     "text": [
      "Wall time: 422 ms\n"
     ]
    }
   ],
   "source": [
    "    %%time\n",
    "    word_cut=\".\"\n",
    "    sentence_words=[]\n",
    "    sentence_tags=[]\n",
    "    cpt_word_line=[]\n",
    "    all_sentences_words=[]\n",
    "    all_sentences_tags=[]\n",
    "    cpt=0\n",
    "    cpt_all=0\n",
    "    cpt_file=len(list_words)\n",
    "\n",
    "    for idx,elem in enumerate(list_words):\n",
    "#         if line.strip()=='.':\n",
    "#             print(\"line is \",line.strip())\n",
    "        if elem==word_cut:\n",
    "#         if len(line.strip()) == 0 and word_before==word_before:\n",
    "            sentence_words.append(elem)\n",
    "            sentence_tags.append(list_tags[idx])\n",
    "        \n",
    "            all_sentences_words.append(' '.join(sentence_words))\n",
    "            all_sentences_tags.append(' '.join(sentence_tags))\n",
    "            \n",
    "#             cpt_word_line.append(cpt)\n",
    "            sentence_words=[]\n",
    "            sentence_tags=[]\n",
    "#             cpt=0\n",
    "            cpt_all+=1\n",
    "        if elem!=word_cut:\n",
    "            sentence_words.append(elem)\n",
    "            sentence_tags.append(list_tags[idx])\n",
    "#             cpt+=1\n",
    "            cpt_all+=1\n",
    "#         if cpt_all==cpt_file:\n",
    "#             all_sentences_words.append(' '.join(sentence_words))\n",
    "#             all_sentences_tags.append(' '.join(sentence_tags)) \n",
    "#             cpt_word_line.append(cpt)"
   ]
  },
  {
   "cell_type": "markdown",
   "metadata": {},
   "source": [
    "### Save lists to files"
   ]
  },
  {
   "cell_type": "code",
   "execution_count": 6,
   "metadata": {},
   "outputs": [],
   "source": [
    "save_to_txt(all_sentences_words,\"../dataset/raw2/wiki_words_bitext_2.txt\")\n",
    "save_to_txt(all_sentences_tags,\"../dataset/raw2/wiki_tags_bitext_2.txt\")"
   ]
  },
  {
   "cell_type": "markdown",
   "metadata": {},
   "source": [
    "### Old"
   ]
  },
  {
   "cell_type": "code",
   "execution_count": null,
   "metadata": {},
   "outputs": [],
   "source": [
    "# def file2bitext(file_input_name,word_cut,file_output_name):\n",
    "# #     f = open('train.words.txt', 'rt')\n",
    "   \n",
    "#     #***************** READ FILE AND BUILD LINES*****************\n",
    "#     #count number of lines in the file\n",
    "#     f = open(file_input_name, 'rt')\n",
    "#     cpt_file=0\n",
    "#     for line in f:\n",
    "#         cpt_file+=1\n",
    "#     f.close()\n",
    "#     print(\"number of lines in the file\", cpt_file)\n",
    "\n",
    "#     #build the sentences\n",
    "#     word_before=''\n",
    "#     sentence=[]\n",
    "#     cpt_word_line=[]\n",
    "#     all_sentences=[]\n",
    "#     cpt=0\n",
    "#     cpt_all=0\n",
    "\n",
    "#     f = open(file_input_name, 'rt')\n",
    "#     for line in f:\n",
    "# #         if line.strip()=='.':\n",
    "# #             print(\"line is \",line.strip())\n",
    "#         if line.strip()==word_cut:\n",
    "# #         if len(line.strip()) == 0 and word_before==word_before:\n",
    "#             sentence.append(line.strip())\n",
    "#             all_sentences.append(' '.join(sentence))\n",
    "#             cpt_word_line.append(cpt)\n",
    "#             sentence=[]\n",
    "#             cpt=0\n",
    "#             cpt_all+=1\n",
    "#         if line.strip()!=word_cut:\n",
    "#             sentence.append(line.strip())\n",
    "#             word_before=line.strip()\n",
    "#             cpt+=1\n",
    "#             cpt_all+=1\n",
    "#         if cpt_all==cpt_file:\n",
    "#             all_sentences.append(' '.join(sentence)) \n",
    "#             cpt_word_line.append(cpt)\n",
    "#     f.close()\n",
    "    \n",
    "#     #***************** SAVE LINES TO OUTPUT_FILE *****************\n",
    "#     save_to_txt(all_sentences,file_output_name)\n",
    "\n",
    "def save_to_txt(sentences_array,file_output_name):\n",
    "    if os.path.isfile(file_output_name):\n",
    "        os.remove(file_output_name)\n",
    "    with open(file_output_name, \"a\") as a_file:\n",
    "        for elem in sentences_array:\n",
    "            a_file.write(elem)\n",
    "            a_file.write(\"\\n\")\n",
    "    a_file.close()"
   ]
  }
 ],
 "metadata": {
  "kernelspec": {
   "display_name": "Python 3",
   "language": "python",
   "name": "python3"
  },
  "language_info": {
   "codemirror_mode": {
    "name": "ipython",
    "version": 3
   },
   "file_extension": ".py",
   "mimetype": "text/x-python",
   "name": "python",
   "nbconvert_exporter": "python",
   "pygments_lexer": "ipython3",
   "version": "3.7.6"
  }
 },
 "nbformat": 4,
 "nbformat_minor": 4
}
